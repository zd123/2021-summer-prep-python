{
 "cells": [
  {
   "cell_type": "code",
   "execution_count": 1,
   "metadata": {},
   "outputs": [],
   "source": [
    "my_string = 'Dont you know your imperfections is a blessing.'"
   ]
  },
  {
   "cell_type": "code",
   "execution_count": 12,
   "metadata": {},
   "outputs": [
    {
     "name": "stdout",
     "output_type": "stream",
     "text": [
      "imperfections\n"
     ]
    }
   ],
   "source": [
    "list_of_words = my_string.split(' ')\n",
    "\n",
    "max_word_word = \"\"\n",
    "max_word_len = 0\n",
    "\n",
    "for word in list_of_words:\n",
    "    \n",
    "    # Find lenght of word\n",
    "    current_word_len = len(word)\n",
    "    \n",
    "    # check if word is great than max word\n",
    "    if current_word_len > max_word_len:\n",
    "        max_word_len = current_word_len\n",
    "        max_word_word = word\n",
    "print(max_word_word)"
   ]
  },
  {
   "cell_type": "code",
   "execution_count": 14,
   "metadata": {},
   "outputs": [
    {
     "data": {
      "text/plain": [
       "[1, 2, 4, 22, 61, 999, 99999]"
      ]
     },
     "execution_count": 14,
     "metadata": {},
     "output_type": "execute_result"
    }
   ],
   "source": [
    "number_list = [99999, 1, 2, 4, 61, 22, 999]\n",
    "\n",
    "sorted(number_list)"
   ]
  },
  {
   "cell_type": "code",
   "execution_count": null,
   "metadata": {},
   "outputs": [],
   "source": []
  }
 ],
 "metadata": {
  "kernelspec": {
   "display_name": "Python 3",
   "language": "python",
   "name": "python3"
  },
  "language_info": {
   "codemirror_mode": {
    "name": "ipython",
    "version": 3
   },
   "file_extension": ".py",
   "mimetype": "text/x-python",
   "name": "python",
   "nbconvert_exporter": "python",
   "pygments_lexer": "ipython3",
   "version": "3.8.5"
  }
 },
 "nbformat": 4,
 "nbformat_minor": 4
}
